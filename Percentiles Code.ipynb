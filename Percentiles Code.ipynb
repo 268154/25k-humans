{
  "metadata": {
    "kernelspec": {
      "name": "xpython",
      "display_name": "Python 3.13 (XPython)",
      "language": "python"
    },
    "language_info": {
      "file_extension": ".py",
      "mimetype": "text/x-python",
      "name": "python",
      "version": "3.13.1"
    }
  },
  "nbformat_minor": 5,
  "nbformat": 4,
  "cells": [
    {
      "id": "20ba35f5-acfd-41df-b8ad-f1ea2dcd6aaf",
      "cell_type": "code",
      "source": "import numpy as np\nfrom scipy import stats\n\n# Load the CSV data\nheights_array = np.loadtxt(\"SOCR-HeightWeight.csv\", delimiter=\",\", dtype=str, skiprows=1)\n\nheights = []\n\nmyheight = 70\n\n# Collect height values\nfor i in range(len(heights_array)):\n    heightValue = float(heights_array[i][1])\n    heights.append(heightValue)\n\n# Sort in ascending order \nheights.sort()\n\n# Find the position where myheight would fit\nfor j in range(len(heights)):\n    if myheight < heights[j]:\n        position = j\n        break\nelse:\n    # If myheight is greater than or equal to all it's at the top\n    position = len(heights)\n\n# Calculate percentile\npercentile = (position / len(heights)) * 100\n\nprint(f\"My height is in the {round(percentile)}th percentile.\")\n",
      "metadata": {
        "trusted": true
      },
      "outputs": [
        {
          "name": "stdout",
          "output_type": "stream",
          "text": "My height is in the 85th percentile.\n"
        }
      ],
      "execution_count": 22
    },
    {
      "id": "dc2013ac-8b64-405b-be31-b095af7ff5d2",
      "cell_type": "code",
      "source": "import numpy as np\nfrom scipy import stats\n\n# Load the CSV data\nheights_array = np.loadtxt(\"SOCR-HeightWeight.csv\", delimiter=\",\", dtype=str, skiprows=1)\n\nheights = []\n\nmyheight = float(input(\"Enter a height\"))\n\n# Collect height values \nfor i in range(len(heights_array)):\n    heightValue = float(heights_array[i][1])\n    heights.append(heightValue)\n\n# Sort in ascending order\nheights.sort()\n\n# Find the position where myheight would fit\nfor j in range(len(heights)):\n    if myheight < heights[j]:\n        position = j\n        break\nelse:\n    # If myheight is greater than or equal to all, it's at the top\n    position = len(heights)\n\n# Calculate percentile\npercentile = (position / len(heights)) * 100\n\nprint(f\"Your height is in the {round(percentile)}th percentile.\")\n",
      "metadata": {
        "trusted": true
      },
      "outputs": [
        {
          "output_type": "stream",
          "name": "stdin",
          "text": "Enter a height 73\n"
        },
        {
          "name": "stdout",
          "output_type": "stream",
          "text": "My height is in the 100th percentile.\n"
        }
      ],
      "execution_count": 25
    },
    {
      "id": "795db47a-2dd1-41a1-975d-fde339ad9f16",
      "cell_type": "code",
      "source": "",
      "metadata": {
        "trusted": true
      },
      "outputs": [],
      "execution_count": null
    }
  ]
}